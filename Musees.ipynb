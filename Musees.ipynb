{
 "cells": [
  {
   "cell_type": "markdown",
   "id": "bf44e105",
   "metadata": {},
   "source": [
    "# 1 - Récupération du fichier"
   ]
  },
  {
   "cell_type": "code",
   "execution_count": 1,
   "id": "eb15f9e7",
   "metadata": {},
   "outputs": [],
   "source": [
    "import pandas as pd"
   ]
  },
  {
   "cell_type": "code",
   "execution_count": 14,
   "id": "2abd83e3",
   "metadata": {},
   "outputs": [],
   "source": [
    "musees = pd.read_csv(\"liste-des-musees-de-france-2021.csv\", sep=\";\", encoding=\"latin-1\")"
   ]
  },
  {
   "cell_type": "code",
   "execution_count": 60,
   "id": "0aebcd84",
   "metadata": {},
   "outputs": [
    {
     "data": {
      "text/html": [
       "<div>\n",
       "<style scoped>\n",
       "    .dataframe tbody tr th:only-of-type {\n",
       "        vertical-align: middle;\n",
       "    }\n",
       "\n",
       "    .dataframe tbody tr th {\n",
       "        vertical-align: top;\n",
       "    }\n",
       "\n",
       "    .dataframe thead th {\n",
       "        text-align: right;\n",
       "    }\n",
       "</style>\n",
       "<table border=\"1\" class=\"dataframe\">\n",
       "  <thead>\n",
       "    <tr style=\"text-align: right;\">\n",
       "      <th></th>\n",
       "      <th>osm_id</th>\n",
       "      <th>name</th>\n",
       "      <th>number</th>\n",
       "      <th>street</th>\n",
       "      <th>postal_code</th>\n",
       "      <th>city</th>\n",
       "      <th>country</th>\n",
       "      <th>country_code</th>\n",
       "      <th>lat</th>\n",
       "      <th>lon</th>\n",
       "      <th>website</th>\n",
       "      <th>email</th>\n",
       "      <th>phone</th>\n",
       "      <th>fax</th>\n",
       "      <th>tags</th>\n",
       "      <th>description</th>\n",
       "      <th>date_added</th>\n",
       "      <th>wikidata</th>\n",
       "    </tr>\n",
       "  </thead>\n",
       "  <tbody>\n",
       "    <tr>\n",
       "      <th>0</th>\n",
       "      <td>4540234591</td>\n",
       "      <td>3 bis f</td>\n",
       "      <td>109</td>\n",
       "      <td>Avenue du Petit Barthélémy</td>\n",
       "      <td>13617.0</td>\n",
       "      <td>Aix-en-Provence</td>\n",
       "      <td>France</td>\n",
       "      <td>fr</td>\n",
       "      <td>43.521207</td>\n",
       "      <td>5.439875</td>\n",
       "      <td>http://www.3bisf.com</td>\n",
       "      <td>contact@3bisf.com</td>\n",
       "      <td>3.344216e+10</td>\n",
       "      <td>NaN</td>\n",
       "      <td>osm:museum;art:art contemporain</td>\n",
       "      <td>NaN</td>\n",
       "      <td>44116,0076388889</td>\n",
       "      <td>NaN</td>\n",
       "    </tr>\n",
       "    <tr>\n",
       "      <th>1</th>\n",
       "      <td>4388745689</td>\n",
       "      <td>A casa di Losari</td>\n",
       "      <td>NaN</td>\n",
       "      <td>T 30</td>\n",
       "      <td>20226.0</td>\n",
       "      <td>Belgodère</td>\n",
       "      <td>France</td>\n",
       "      <td>fr</td>\n",
       "      <td>42.638732</td>\n",
       "      <td>9.007660</td>\n",
       "      <td>NaN</td>\n",
       "      <td>NaN</td>\n",
       "      <td>NaN</td>\n",
       "      <td>NaN</td>\n",
       "      <td>osm:museum</td>\n",
       "      <td>NaN</td>\n",
       "      <td>43338,9393981481</td>\n",
       "      <td>NaN</td>\n",
       "    </tr>\n",
       "    <tr>\n",
       "      <th>2</th>\n",
       "      <td>4426176194</td>\n",
       "      <td>À l'homme volant</td>\n",
       "      <td>35</td>\n",
       "      <td>Grande Rue</td>\n",
       "      <td>72300.0</td>\n",
       "      <td>Sablé-sur-Sarthe</td>\n",
       "      <td>France</td>\n",
       "      <td>fr</td>\n",
       "      <td>47.839656</td>\n",
       "      <td>-0.334043</td>\n",
       "      <td>NaN</td>\n",
       "      <td>NaN</td>\n",
       "      <td>3.324395e+10</td>\n",
       "      <td>NaN</td>\n",
       "      <td>osm:museum;type:centre d'interpretation</td>\n",
       "      <td>NaN</td>\n",
       "      <td>42644,4636574074</td>\n",
       "      <td>NaN</td>\n",
       "    </tr>\n",
       "    <tr>\n",
       "      <th>3</th>\n",
       "      <td>7652598615</td>\n",
       "      <td>Abbadiale - Maison des arts</td>\n",
       "      <td>NaN</td>\n",
       "      <td>Rue du Gabizos</td>\n",
       "      <td>65400.0</td>\n",
       "      <td>Arras-en-Lavedan</td>\n",
       "      <td>France</td>\n",
       "      <td>fr</td>\n",
       "      <td>42.990826</td>\n",
       "      <td>-0.128057</td>\n",
       "      <td>https://www.abbadiale.fr/</td>\n",
       "      <td>NaN</td>\n",
       "      <td>3.363317e+10</td>\n",
       "      <td>NaN</td>\n",
       "      <td>osm:museum</td>\n",
       "      <td>NaN</td>\n",
       "      <td>44120,0466782407</td>\n",
       "      <td>NaN</td>\n",
       "    </tr>\n",
       "    <tr>\n",
       "      <th>4</th>\n",
       "      <td>121580330</td>\n",
       "      <td>Abbaye</td>\n",
       "      <td>NaN</td>\n",
       "      <td>Rue de l'Abbaye</td>\n",
       "      <td>39210.0</td>\n",
       "      <td>Château-Chalon</td>\n",
       "      <td>France</td>\n",
       "      <td>fr</td>\n",
       "      <td>46.753866</td>\n",
       "      <td>5.624296</td>\n",
       "      <td>NaN</td>\n",
       "      <td>NaN</td>\n",
       "      <td>NaN</td>\n",
       "      <td>NaN</td>\n",
       "      <td>osm:museum;art:architecture</td>\n",
       "      <td>NaN</td>\n",
       "      <td>43102,5491898148</td>\n",
       "      <td>NaN</td>\n",
       "    </tr>\n",
       "  </tbody>\n",
       "</table>\n",
       "</div>"
      ],
      "text/plain": [
       "       osm_id                         name number                      street  \\\n",
       "0  4540234591                      3 bis f    109  Avenue du Petit Barthélémy   \n",
       "1  4388745689             A casa di Losari    NaN                        T 30   \n",
       "2  4426176194             À l'homme volant     35                  Grande Rue   \n",
       "3  7652598615  Abbadiale - Maison des arts    NaN              Rue du Gabizos   \n",
       "4   121580330                       Abbaye    NaN             Rue de l'Abbaye   \n",
       "\n",
       "   postal_code              city country country_code        lat       lon  \\\n",
       "0      13617.0   Aix-en-Provence  France           fr  43.521207  5.439875   \n",
       "1      20226.0         Belgodère  France           fr  42.638732  9.007660   \n",
       "2      72300.0  Sablé-sur-Sarthe  France           fr  47.839656 -0.334043   \n",
       "3      65400.0  Arras-en-Lavedan  France           fr  42.990826 -0.128057   \n",
       "4      39210.0    Château-Chalon  France           fr  46.753866  5.624296   \n",
       "\n",
       "                     website              email         phone  fax  \\\n",
       "0       http://www.3bisf.com  contact@3bisf.com  3.344216e+10  NaN   \n",
       "1                        NaN                NaN           NaN  NaN   \n",
       "2                        NaN                NaN  3.324395e+10  NaN   \n",
       "3  https://www.abbadiale.fr/                NaN  3.363317e+10  NaN   \n",
       "4                        NaN                NaN           NaN  NaN   \n",
       "\n",
       "                                      tags description        date_added  \\\n",
       "0          osm:museum;art:art contemporain         NaN  44116,0076388889   \n",
       "1                               osm:museum         NaN  43338,9393981481   \n",
       "2  osm:museum;type:centre d'interpretation         NaN  42644,4636574074   \n",
       "3                               osm:museum         NaN  44120,0466782407   \n",
       "4              osm:museum;art:architecture         NaN  43102,5491898148   \n",
       "\n",
       "  wikidata  \n",
       "0      NaN  \n",
       "1      NaN  \n",
       "2      NaN  \n",
       "3      NaN  \n",
       "4      NaN  "
      ]
     },
     "execution_count": 60,
     "metadata": {},
     "output_type": "execute_result"
    }
   ],
   "source": [
    "#Aperçu du dataframe :\n",
    "musees.head()"
   ]
  },
  {
   "cell_type": "markdown",
   "id": "c80ef278",
   "metadata": {},
   "source": [
    "# 2- Réponse aux questions"
   ]
  },
  {
   "cell_type": "code",
   "execution_count": 17,
   "id": "325c38a9",
   "metadata": {},
   "outputs": [
    {
     "name": "stdout",
     "output_type": "stream",
     "text": [
      "Il y a au total 3784 musées en France métropolitaine\n"
     ]
    }
   ],
   "source": [
    "print(\"Il y a au total \" + str(len(musees)) + \" musées en France métropolitaine\")"
   ]
  },
  {
   "cell_type": "code",
   "execution_count": 35,
   "id": "8265e85e",
   "metadata": {},
   "outputs": [
    {
     "data": {
      "text/plain": [
       "Paris               175\n",
       "Lyon                 33\n",
       "Marseille            28\n",
       "Grenoble             22\n",
       "Bordeaux             20\n",
       "                   ... \n",
       "Jarnac                1\n",
       "Tréguier              1\n",
       "Pessac                1\n",
       "Belmont               1\n",
       "Saint-Cyr-en-Val      1\n",
       "Name: city, Length: 2295, dtype: int64"
      ]
     },
     "execution_count": 35,
     "metadata": {},
     "output_type": "execute_result"
    }
   ],
   "source": [
    "musees['city'].value_counts()"
   ]
  },
  {
   "cell_type": "markdown",
   "id": "f1f19342",
   "metadata": {},
   "source": [
    "#### C'est à Paris qu'il y a le plus de musées"
   ]
  },
  {
   "cell_type": "markdown",
   "id": "3a7613a9",
   "metadata": {},
   "source": [
    "## Pour les deux questions qui suivent je ne considèrerai que le nombre de villes possédant un musée"
   ]
  },
  {
   "cell_type": "code",
   "execution_count": 37,
   "id": "c2f3f0bf",
   "metadata": {},
   "outputs": [
    {
     "data": {
      "text/plain": [
       "1.6"
      ]
     },
     "execution_count": 37,
     "metadata": {},
     "output_type": "execute_result"
    }
   ],
   "source": [
    "round(musees['city'].value_counts().mean(),1)"
   ]
  },
  {
   "cell_type": "markdown",
   "id": "b257f8e9",
   "metadata": {},
   "source": [
    "#### Il y a en moyenne 1,6 musée par ville\n"
   ]
  },
  {
   "cell_type": "code",
   "execution_count": 38,
   "id": "3e6d91f4",
   "metadata": {},
   "outputs": [
    {
     "data": {
      "text/plain": [
       "1.0"
      ]
     },
     "execution_count": 38,
     "metadata": {},
     "output_type": "execute_result"
    }
   ],
   "source": [
    "round(musees['city'].value_counts().median(),1)"
   ]
  },
  {
   "cell_type": "markdown",
   "id": "f1c1844a",
   "metadata": {},
   "source": [
    "#### La médiane est 1 musée par ville"
   ]
  },
  {
   "cell_type": "code",
   "execution_count": 48,
   "id": "8871fca9",
   "metadata": {},
   "outputs": [],
   "source": [
    "types_musees = musees['tags'].str.split(\";\")\n",
    "\n",
    "musees_sorted = types_musees.explode().value_counts()"
   ]
  },
  {
   "cell_type": "code",
   "execution_count": 55,
   "id": "798f9ff5",
   "metadata": {},
   "outputs": [
    {
     "data": {
      "text/plain": [
       "type:ecomusee                         10.505425\n",
       "type:musee technique et industriel     5.557026\n",
       "type:musee d'histoire                  4.260386\n",
       "gender:musee d'homme                   3.757608\n",
       "art:architecture                       3.334215\n",
       "type:musee de beaux-arts               3.307753\n",
       "type:musee d'art                       2.884361\n",
       "type:musee archeologique               2.884361\n",
       "art:prehistoire                        2.619741\n",
       "art:art contemporain                   1.720032\n",
       "type:maison d'artiste                  1.720032\n",
       "type:musee d'arts populaires           1.534798\n",
       "type:musee d'histoire naturelle        1.508336\n",
       "type:centre d'interpretation           1.217253\n",
       "type:musee litteraire                  0.873247\n",
       "musee d'histoire                       0.661551\n",
       "type:musee de sciences                 0.608627\n",
       "type:centre d'art                      0.529241\n",
       "gender:musee de femme                  0.476316\n",
       "type:fondation                         0.476316\n",
       "art:antiquite                          0.449854\n",
       "type:musee d'artiste                   0.396930\n",
       "art:art moderne                        0.370468\n",
       "art:art populaire                      0.264620\n",
       "type:atelier d'artiste                 0.211696\n",
       "art:art brut                           0.185234\n",
       "art:art religieux                      0.185234\n",
       "continent:art asiatique                0.185234\n",
       "continent:art africain                 0.132310\n",
       "art:art medieval                       0.105848\n",
       "type:bibliotheque                      0.105848\n",
       "art:art naif                           0.079386\n",
       "type:musee ethnographique              0.079386\n",
       "type:type:musee d'arts populaires      0.052924\n",
       "art:renaissance                        0.052924\n",
       "type:musée de beaux-arts               0.052924\n",
       "osm:museum:art:prehistoire             0.026462\n",
       "contient:art africain                  0.026462\n",
       "continent:art oceanien                 0.026462\n",
       "art:art des ameriques                  0.026462\n",
       "Name: tags, dtype: float64"
      ]
     },
     "execution_count": 55,
     "metadata": {},
     "output_type": "execute_result"
    }
   ],
   "source": [
    "musees_percent = (musees_sorted / musees_sorted[0])*100\n",
    "\n",
    "# Si l'on prend la totalité des musées, voici la répartition des types de musées pour les 30 premiers (certains n'ont que le type \"musée\")\n",
    "musees_percent.drop('osm:museum').head(40)"
   ]
  },
  {
   "cell_type": "code",
   "execution_count": 59,
   "id": "612b9ee9",
   "metadata": {},
   "outputs": [
    {
     "data": {
      "text/plain": [
       "type:ecomusee                         19.547021\n",
       "type:musee technique et industriel    10.339734\n",
       "type:musee d'histoire                  7.927129\n",
       "gender:musee d'homme                   6.991630\n",
       "art:architecture                       6.203840\n",
       "type:musee de beaux-arts               6.154604\n",
       "type:musee d'art                       5.366814\n",
       "type:musee archeologique               5.366814\n",
       "art:prehistoire                        4.874446\n",
       "art:art contemporain                   3.200394\n",
       "type:maison d'artiste                  3.200394\n",
       "type:musee d'arts populaires           2.855736\n",
       "type:musee d'histoire naturelle        2.806499\n",
       "type:centre d'interpretation           2.264894\n",
       "type:musee litteraire                  1.624815\n",
       "musee d'histoire                       1.230921\n",
       "type:musee de sciences                 1.132447\n",
       "type:centre d'art                      0.984737\n",
       "gender:musee de femme                  0.886263\n",
       "type:fondation                         0.886263\n",
       "art:antiquite                          0.837026\n",
       "type:musee d'artiste                   0.738552\n",
       "art:art moderne                        0.689316\n",
       "art:art populaire                      0.492368\n",
       "type:atelier d'artiste                 0.393895\n",
       "art:art brut                           0.344658\n",
       "art:art religieux                      0.344658\n",
       "continent:art asiatique                0.344658\n",
       "continent:art africain                 0.246184\n",
       "art:art medieval                       0.196947\n",
       "Name: tags, dtype: float64"
      ]
     },
     "execution_count": 59,
     "metadata": {},
     "output_type": "execute_result"
    }
   ],
   "source": [
    "musees_sorted2 = musees_sorted.drop('osm:museum')\n",
    "musees_percent2 = (musees_sorted2 / musees_sorted2.sum())*100\n",
    "\n",
    "#Si l'on prend uniquement les musées ayant une catégorie autre que \"musée\" renseignée, voici les pourcentages des 30 premiers\n",
    "musees_percent2.head(30)"
   ]
  },
  {
   "cell_type": "code",
   "execution_count": 63,
   "id": "42d53e04",
   "metadata": {},
   "outputs": [
    {
     "data": {
      "text/plain": [
       "57"
      ]
     },
     "execution_count": 63,
     "metadata": {},
     "output_type": "execute_result"
    }
   ],
   "source": [
    "musees[\"name\"].str.startswith('Château').value_counts().loc[True]"
   ]
  },
  {
   "cell_type": "markdown",
   "id": "1f8e3e79",
   "metadata": {},
   "source": [
    "#### Il y a 57 musées dont le nom commence par Château"
   ]
  },
  {
   "cell_type": "code",
   "execution_count": 74,
   "id": "2e6e03b3",
   "metadata": {},
   "outputs": [
    {
     "data": {
      "text/plain": [
       "1636"
      ]
     },
     "execution_count": 74,
     "metadata": {},
     "output_type": "execute_result"
    }
   ],
   "source": [
    "len(musees[\"website\"].dropna())"
   ]
  },
  {
   "cell_type": "markdown",
   "id": "bad2e138",
   "metadata": {},
   "source": [
    "#### Nous avons les sites web pour 1636 musées"
   ]
  },
  {
   "cell_type": "code",
   "execution_count": 91,
   "id": "44c9e16e",
   "metadata": {},
   "outputs": [
    {
     "data": {
      "text/plain": [
       "code_postal\n",
       "75             172\n",
       "59              96\n",
       "33              93\n",
       "6               87\n",
       "7               83\n",
       "              ... \n",
       "23              10\n",
       "90               9\n",
       "48               8\n",
       "98               8\n",
       "590              1\n",
       "Length: 97, dtype: int64"
      ]
     },
     "execution_count": 91,
     "metadata": {},
     "output_type": "execute_result"
    }
   ],
   "source": [
    "div_postal_code = musees['postal_code'].dropna()/1000\n",
    "dpt_code = pd.DataFrame ([int(code) for code in div_postal_code], columns =['code_postal'])\n",
    "dpt_code.value_counts()"
   ]
  },
  {
   "cell_type": "markdown",
   "id": "eab2fd0c",
   "metadata": {},
   "source": [
    "#### Le département avec le plus de musées est le 75 (Paris) avec 172 musées. Le 48 (Lozère) et le 98 (erreur..? pas de département 98 en France métropolitaine) ne possèdent chacun que 8 musées. Il y a une faute de frappe sur le 590 :)"
   ]
  },
  {
   "cell_type": "code",
   "execution_count": 95,
   "id": "a47242d5",
   "metadata": {},
   "outputs": [
    {
     "data": {
      "text/plain": [
       "5"
      ]
     },
     "execution_count": 95,
     "metadata": {},
     "output_type": "execute_result"
    }
   ],
   "source": [
    "musees[\"name\"].str.contains('Napoléon|Napoleon').value_counts().loc[True]"
   ]
  },
  {
   "cell_type": "markdown",
   "id": "69055069",
   "metadata": {},
   "source": [
    "#### Il y a 5 musées dont le nom contient 'Napoléon' (avec ou sans accent)"
   ]
  },
  {
   "cell_type": "markdown",
   "id": "8cf14ab0",
   "metadata": {},
   "source": [
    "# 3 - Pour aller plus loin"
   ]
  },
  {
   "cell_type": "markdown",
   "id": "9c544b98",
   "metadata": {},
   "source": [
    "Plusieurs informations pourraient être intéressantes à récupérer :\n",
    "- les notations Google / Tripadvisor pour donner une idée de la qualité du musée. Source: Google/Tripadvisor\n",
    "- le statut du musée et les éventuelles gratuités (premier dimanche du mois, étudiants UE, etc..). Source : site du musée ? ou un statut existe déjà qui regroupe tout ça ? Je ne suis pas assez calée :)"
   ]
  }
 ],
 "metadata": {
  "kernelspec": {
   "display_name": "Python 3 (ipykernel)",
   "language": "python",
   "name": "python3"
  },
  "language_info": {
   "codemirror_mode": {
    "name": "ipython",
    "version": 3
   },
   "file_extension": ".py",
   "mimetype": "text/x-python",
   "name": "python",
   "nbconvert_exporter": "python",
   "pygments_lexer": "ipython3",
   "version": "3.10.9"
  }
 },
 "nbformat": 4,
 "nbformat_minor": 5
}
